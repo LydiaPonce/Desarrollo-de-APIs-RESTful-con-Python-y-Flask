{
 "cells": [
  {
   "cell_type": "code",
   "execution_count": 1,
   "metadata": {},
   "outputs": [],
   "source": [
    "# Import pandas for data analysis\n",
    "import pandas as pd\n",
    "\n",
    "# Import numpy for numerical computation\n",
    "import numpy as np\n",
    "\n",
    "# Import matplotlib and seaborn for data visualization\n",
    "import matplotlib.pyplot as plt\n",
    "import seaborn as sns\n",
    "import sidetable\n"
   ]
  },
  {
   "cell_type": "code",
   "execution_count": 2,
   "metadata": {},
   "outputs": [
    {
     "data": {
      "text/html": [
       "<div>\n",
       "<style scoped>\n",
       "    .dataframe tbody tr th:only-of-type {\n",
       "        vertical-align: middle;\n",
       "    }\n",
       "\n",
       "    .dataframe tbody tr th {\n",
       "        vertical-align: top;\n",
       "    }\n",
       "\n",
       "    .dataframe thead th {\n",
       "        text-align: right;\n",
       "    }\n",
       "</style>\n",
       "<table border=\"1\" class=\"dataframe\">\n",
       "  <thead>\n",
       "    <tr style=\"text-align: right;\">\n",
       "      <th></th>\n",
       "      <th>board</th>\n",
       "      <th>date</th>\n",
       "      <th>hotel</th>\n",
       "      <th>price</th>\n",
       "      <th>rate</th>\n",
       "      <th>room</th>\n",
       "    </tr>\n",
       "  </thead>\n",
       "  <tbody>\n",
       "    <tr>\n",
       "      <th>0</th>\n",
       "      <td>Desayuno</td>\n",
       "      <td>2022-06-01</td>\n",
       "      <td>Hotel 1</td>\n",
       "      <td>160</td>\n",
       "      <td>Reembolsable</td>\n",
       "      <td>Suite</td>\n",
       "    </tr>\n",
       "    <tr>\n",
       "      <th>1</th>\n",
       "      <td>Media Pension</td>\n",
       "      <td>2022-06-01</td>\n",
       "      <td>Hotel 1</td>\n",
       "      <td>92</td>\n",
       "      <td>No Reembolsable</td>\n",
       "      <td>Suite</td>\n",
       "    </tr>\n",
       "    <tr>\n",
       "      <th>2</th>\n",
       "      <td>Solo Alojamiento</td>\n",
       "      <td>2022-06-01</td>\n",
       "      <td>Hotel 1</td>\n",
       "      <td>192</td>\n",
       "      <td>No Reembolsable</td>\n",
       "      <td>Triple</td>\n",
       "    </tr>\n",
       "    <tr>\n",
       "      <th>3</th>\n",
       "      <td>Desayuno</td>\n",
       "      <td>2022-06-01</td>\n",
       "      <td>Hotel 1</td>\n",
       "      <td>101</td>\n",
       "      <td>Reembolsable</td>\n",
       "      <td>Junior Suite</td>\n",
       "    </tr>\n",
       "    <tr>\n",
       "      <th>4</th>\n",
       "      <td>Media Pension</td>\n",
       "      <td>2022-06-01</td>\n",
       "      <td>Hotel 1</td>\n",
       "      <td>79</td>\n",
       "      <td>No Reembolsable</td>\n",
       "      <td>Junior Suite</td>\n",
       "    </tr>\n",
       "  </tbody>\n",
       "</table>\n",
       "</div>"
      ],
      "text/plain": [
       "              board        date    hotel  price             rate          room\n",
       "0          Desayuno  2022-06-01  Hotel 1    160     Reembolsable         Suite\n",
       "1     Media Pension  2022-06-01  Hotel 1     92  No Reembolsable         Suite\n",
       "2  Solo Alojamiento  2022-06-01  Hotel 1    192  No Reembolsable        Triple\n",
       "3          Desayuno  2022-06-01  Hotel 1    101     Reembolsable  Junior Suite\n",
       "4     Media Pension  2022-06-01  Hotel 1     79  No Reembolsable  Junior Suite"
      ]
     },
     "execution_count": 2,
     "metadata": {},
     "output_type": "execute_result"
    }
   ],
   "source": [
    "hotels = pd.read_csv('prices.csv')\n",
    "hotels.head()"
   ]
  },
  {
   "cell_type": "code",
   "execution_count": null,
   "metadata": {},
   "outputs": [],
   "source": [
    "list_hotel=list(hotels.hotel.sample(50))\n",
    "list_hotel"
   ]
  },
  {
   "cell_type": "code",
   "execution_count": 3,
   "metadata": {},
   "outputs": [
    {
     "data": {
      "text/plain": [
       "array(['Desayuno', 'Media Pension', 'Solo Alojamiento',\n",
       "       'Pension Completa', 'Todo Incluido'], dtype=object)"
      ]
     },
     "execution_count": 3,
     "metadata": {},
     "output_type": "execute_result"
    }
   ],
   "source": [
    "hotels.board.unique()"
   ]
  },
  {
   "cell_type": "code",
   "execution_count": 4,
   "metadata": {},
   "outputs": [
    {
     "data": {
      "text/plain": [
       "array(['Hotel 1', 'Hotel 2', 'Hotel 3', 'Hotel 4', 'Hotel 5'],\n",
       "      dtype=object)"
      ]
     },
     "execution_count": 4,
     "metadata": {},
     "output_type": "execute_result"
    }
   ],
   "source": [
    "hotels.hotel.unique()"
   ]
  },
  {
   "cell_type": "code",
   "execution_count": 5,
   "metadata": {},
   "outputs": [
    {
     "data": {
      "text/plain": [
       "array([160,  92, 192, 101,  79,  83,  90, 164,  73,  85, 115,  93,  98,\n",
       "       100, 197,  70, 150, 165, 104, 110, 157, 106,  75, 125, 179, 141,\n",
       "       118, 130,  74, 194, 148, 124,  99, 147,  94,  86, 173, 196, 122,\n",
       "       102,  96, 198, 190, 105, 128, 176, 153, 136, 127, 121, 181, 184,\n",
       "       107, 119, 146, 187, 163, 114,  95, 138,  97,  81, 189, 154, 166,\n",
       "       174, 191, 126, 159, 161, 123, 169, 113, 129, 151, 152, 132, 185,\n",
       "       103, 142,  87,  82, 117, 109, 162, 180, 145, 168,  71, 120, 177,\n",
       "       188, 175, 133, 108, 135, 178, 172, 112, 116, 199, 183, 134,  76,\n",
       "        89, 195, 186, 144,  88, 111,  77,  80, 156, 170,  72, 193, 143,\n",
       "       200,  91, 171, 139, 155, 137,  84, 158, 182, 167, 140, 131,  78,\n",
       "       149])"
      ]
     },
     "execution_count": 5,
     "metadata": {},
     "output_type": "execute_result"
    }
   ],
   "source": [
    "hotels.price.unique()"
   ]
  },
  {
   "cell_type": "code",
   "execution_count": 6,
   "metadata": {},
   "outputs": [
    {
     "data": {
      "text/plain": [
       "array(['Reembolsable', 'No Reembolsable'], dtype=object)"
      ]
     },
     "execution_count": 6,
     "metadata": {},
     "output_type": "execute_result"
    }
   ],
   "source": [
    "hotels.rate.unique()"
   ]
  },
  {
   "cell_type": "code",
   "execution_count": 7,
   "metadata": {},
   "outputs": [
    {
     "data": {
      "text/plain": [
       "array(['Suite', 'Triple', 'Junior Suite', 'Doble', 'Individual'],\n",
       "      dtype=object)"
      ]
     },
     "execution_count": 7,
     "metadata": {},
     "output_type": "execute_result"
    }
   ],
   "source": [
    "hotels.room.unique()"
   ]
  }
 ],
 "metadata": {
  "kernelspec": {
   "display_name": "Python 3.9.7 ('base')",
   "language": "python",
   "name": "python3"
  },
  "language_info": {
   "codemirror_mode": {
    "name": "ipython",
    "version": 3
   },
   "file_extension": ".py",
   "mimetype": "text/x-python",
   "name": "python",
   "nbconvert_exporter": "python",
   "pygments_lexer": "ipython3",
   "version": "3.9.7"
  },
  "orig_nbformat": 4,
  "vscode": {
   "interpreter": {
    "hash": "40d3a090f54c6569ab1632332b64b2c03c39dcf918b08424e98f38b5ae0af88f"
   }
  }
 },
 "nbformat": 4,
 "nbformat_minor": 2
}
