{
 "cells": [
  {
   "cell_type": "code",
   "execution_count": 1,
   "metadata": {},
   "outputs": [],
   "source": [
    "# Import pandas for data analysis\n",
    "import pandas as pd\n",
    "\n",
    "# Import numpy for numerical computation\n",
    "import numpy as np\n",
    "\n",
    "# Import matplotlib and seaborn for data visualization\n",
    "import matplotlib.pyplot as plt\n",
    "import seaborn as sns\n",
    "import sidetable\n"
   ]
  },
  {
   "cell_type": "code",
   "execution_count": 2,
   "metadata": {},
   "outputs": [
    {
     "data": {
      "text/html": [
       "<div>\n",
       "<style scoped>\n",
       "    .dataframe tbody tr th:only-of-type {\n",
       "        vertical-align: middle;\n",
       "    }\n",
       "\n",
       "    .dataframe tbody tr th {\n",
       "        vertical-align: top;\n",
       "    }\n",
       "\n",
       "    .dataframe thead th {\n",
       "        text-align: right;\n",
       "    }\n",
       "</style>\n",
       "<table border=\"1\" class=\"dataframe\">\n",
       "  <thead>\n",
       "    <tr style=\"text-align: right;\">\n",
       "      <th></th>\n",
       "      <th>board</th>\n",
       "      <th>date</th>\n",
       "      <th>hotel</th>\n",
       "      <th>price</th>\n",
       "      <th>rate</th>\n",
       "      <th>room</th>\n",
       "    </tr>\n",
       "  </thead>\n",
       "  <tbody>\n",
       "    <tr>\n",
       "      <th>0</th>\n",
       "      <td>Desayuno</td>\n",
       "      <td>2022-06-01</td>\n",
       "      <td>Hotel 1</td>\n",
       "      <td>160</td>\n",
       "      <td>Reembolsable</td>\n",
       "      <td>Suite</td>\n",
       "    </tr>\n",
       "    <tr>\n",
       "      <th>1</th>\n",
       "      <td>Media Pension</td>\n",
       "      <td>2022-06-01</td>\n",
       "      <td>Hotel 1</td>\n",
       "      <td>92</td>\n",
       "      <td>No Reembolsable</td>\n",
       "      <td>Suite</td>\n",
       "    </tr>\n",
       "    <tr>\n",
       "      <th>2</th>\n",
       "      <td>Solo Alojamiento</td>\n",
       "      <td>2022-06-01</td>\n",
       "      <td>Hotel 1</td>\n",
       "      <td>192</td>\n",
       "      <td>No Reembolsable</td>\n",
       "      <td>Triple</td>\n",
       "    </tr>\n",
       "    <tr>\n",
       "      <th>3</th>\n",
       "      <td>Desayuno</td>\n",
       "      <td>2022-06-01</td>\n",
       "      <td>Hotel 1</td>\n",
       "      <td>101</td>\n",
       "      <td>Reembolsable</td>\n",
       "      <td>Junior Suite</td>\n",
       "    </tr>\n",
       "    <tr>\n",
       "      <th>4</th>\n",
       "      <td>Media Pension</td>\n",
       "      <td>2022-06-01</td>\n",
       "      <td>Hotel 1</td>\n",
       "      <td>79</td>\n",
       "      <td>No Reembolsable</td>\n",
       "      <td>Junior Suite</td>\n",
       "    </tr>\n",
       "  </tbody>\n",
       "</table>\n",
       "</div>"
      ],
      "text/plain": [
       "              board        date    hotel  price             rate          room\n",
       "0          Desayuno  2022-06-01  Hotel 1    160     Reembolsable         Suite\n",
       "1     Media Pension  2022-06-01  Hotel 1     92  No Reembolsable         Suite\n",
       "2  Solo Alojamiento  2022-06-01  Hotel 1    192  No Reembolsable        Triple\n",
       "3          Desayuno  2022-06-01  Hotel 1    101     Reembolsable  Junior Suite\n",
       "4     Media Pension  2022-06-01  Hotel 1     79  No Reembolsable  Junior Suite"
      ]
     },
     "execution_count": 2,
     "metadata": {},
     "output_type": "execute_result"
    }
   ],
   "source": [
    "hotels = pd.read_csv('prices.csv')\n",
    "hotels.head()"
   ]
  },
  {
   "cell_type": "code",
   "execution_count": 9,
   "metadata": {},
   "outputs": [
    {
     "data": {
      "text/plain": [
       "array(['Desayuno', 'Media Pension', 'Solo Alojamiento',\n",
       "       'Pension Completa', 'Todo Incluido'], dtype=object)"
      ]
     },
     "execution_count": 9,
     "metadata": {},
     "output_type": "execute_result"
    }
   ],
   "source": [
    "hotels.board.unique()"
   ]
  },
  {
   "cell_type": "code",
   "execution_count": 10,
   "metadata": {},
   "outputs": [
    {
     "data": {
      "text/plain": [
       "array(['Hotel 1', 'Hotel 2', 'Hotel 3', 'Hotel 4', 'Hotel 5'],\n",
       "      dtype=object)"
      ]
     },
     "execution_count": 10,
     "metadata": {},
     "output_type": "execute_result"
    }
   ],
   "source": [
    "hotels.hotel.unique()"
   ]
  },
  {
   "cell_type": "code",
   "execution_count": 11,
   "metadata": {},
   "outputs": [
    {
     "data": {
      "text/plain": [
       "array([160,  92, 192, 101,  79,  83,  90, 164,  73,  85, 115,  93,  98,\n",
       "       100, 197,  70, 150, 165, 104, 110, 157, 106,  75, 125, 179, 141,\n",
       "       118, 130,  74, 194, 148, 124,  99, 147,  94,  86, 173, 196, 122,\n",
       "       102,  96, 198, 190, 105, 128, 176, 153, 136, 127, 121, 181, 184,\n",
       "       107, 119, 146, 187, 163, 114,  95, 138,  97,  81, 189, 154, 166,\n",
       "       174, 191, 126, 159, 161, 123, 169, 113, 129, 151, 152, 132, 185,\n",
       "       103, 142,  87,  82, 117, 109, 162, 180, 145, 168,  71, 120, 177,\n",
       "       188, 175, 133, 108, 135, 178, 172, 112, 116, 199, 183, 134,  76,\n",
       "        89, 195, 186, 144,  88, 111,  77,  80, 156, 170,  72, 193, 143,\n",
       "       200,  91, 171, 139, 155, 137,  84, 158, 182, 167, 140, 131,  78,\n",
       "       149], dtype=int64)"
      ]
     },
     "execution_count": 11,
     "metadata": {},
     "output_type": "execute_result"
    }
   ],
   "source": [
    "hotels.price.unique()"
   ]
  },
  {
   "cell_type": "code",
   "execution_count": 12,
   "metadata": {},
   "outputs": [
    {
     "data": {
      "text/plain": [
       "array(['Reembolsable', 'No Reembolsable'], dtype=object)"
      ]
     },
     "execution_count": 12,
     "metadata": {},
     "output_type": "execute_result"
    }
   ],
   "source": [
    "hotels.rate.unique()"
   ]
  },
  {
   "cell_type": "code",
   "execution_count": 8,
   "metadata": {},
   "outputs": [
    {
     "data": {
      "text/plain": [
       "array(['Suite', 'Triple', 'Junior Suite', 'Doble', 'Individual'],\n",
       "      dtype=object)"
      ]
     },
     "execution_count": 8,
     "metadata": {},
     "output_type": "execute_result"
    }
   ],
   "source": [
    "hotels.room.unique()"
   ]
  },
  {
   "cell_type": "markdown",
   "metadata": {},
   "source": [
    "1: Data Read - API (Get)\n",
    "=========================\n",
    "\n",
    "Create an API that returns a list of 50 hotels. The required API features are:\n",
    "\n",
    "REQUEST:  GET /hotels/list\n",
    "\n",
    "RESPONSE: JSON with a list of 50 hotels named randomly (Hotel 1, Hotel 2....)\n"
   ]
  },
  {
   "cell_type": "code",
   "execution_count": null,
   "metadata": {},
   "outputs": [],
   "source": [
    "#pip install flask\n",
    "#pip install psycopg2-binary\n",
    "#pip install Flask-SQLAlchemy"
   ]
  },
  {
   "cell_type": "code",
   "execution_count": 4,
   "metadata": {},
   "outputs": [],
   "source": [
    "# import to create API with Flask\n",
    "from flask import Flask\n",
    "from flask import jsonify"
   ]
  },
  {
   "cell_type": "code",
   "execution_count": 9,
   "metadata": {},
   "outputs": [],
   "source": [
    "def create_app():\n",
    "    app = Flask(__name__)\n",
    "    return app\n",
    "\n",
    "app = create_app()"
   ]
  },
  {
   "cell_type": "code",
   "execution_count": null,
   "metadata": {},
   "outputs": [],
   "source": [
    "\n",
    "app.route('/api/v1/hotels', methods=['GET'])\n",
    "def get_hotels():\n",
    "    response = {'message': 'success'}\n",
    "    return jsonify(response)\n",
    "\n",
    "if __name__ == '__main__':\n",
    "    app.run(debug=True)"
   ]
  },
  {
   "cell_type": "code",
   "execution_count": 18,
   "metadata": {},
   "outputs": [],
   "source": [
    "class DevelopmentConfig():\n",
    "    DEBUG = True\n",
    "    SQLALCHEMY_DATABASE_URI = 'postgresql://localhost/hotels'\n",
    "    SQLALCHEMY_TRACK_MODIFICATIONS = False\n",
    "\n",
    "config = {\n",
    "    'development': DevelopmentConfig}\n"
   ]
  },
  {
   "cell_type": "markdown",
   "metadata": {},
   "source": [
    "2: Data Read - API (Post)\n",
    "=========================\n",
    "Create an API with the following characteristics:\n",
    "\n",
    "REQUEST: POST /hotels/data\n",
    "BODY: A JSON with the structure similar to the following example\n",
    "\t{ \"hotels\":\n",
    "\t\t\t[\"Hotel 1\", \"Hotel 2\", \"Hotel 3\"], \n",
    "\t  \"dateFrom\": \"2022-01-01\", \n",
    "\t  \"dateTo\": \"2022-05-30\" }\n",
    "\n",
    "RESPONSE: As a response we will obtain a JSON where the following fields will be informed:\n",
    "\n",
    "\t* DailyMinPrices: List of minimum prices of every hotel for every day in the date range selected\n",
    "\t* DailyMaxPrices: List of maximun prices of every hotel for every day in the date range selected\n",
    "\t* DailyAvgPrices: List of average prices of every hotel for every day in the date range selected\n",
    "\t* MoreExpensiveHotel: Name of the hotel that on average, in the whole range, it has the highest prices\n",
    "\t* CheapestHotel: Name of the hotel that on average, in the whole range, it has the lowest prices\n",
    "\t* MoreExpensiveDay: Day when prices are the highest in all date range\n",
    "\n",
    "Don't worry about the final json structure. There is no fixed requirements for it, just build the final json with all the the information in the most clearly way possible.\n",
    "\n",
    "Your bussiness logic inside the API should do: \n",
    "\n",
    "\t1. Create a random list of prices for every hotel and every date in the range selected. At least 5 prices for hotel and date. \n",
    "\t   Every price, will have a structure like this one:\n",
    "\n",
    "\t\t{\"hotel\": \"Hotel 1\", \"date\": \"2022-06-01\", \"board\": \"All Inclusive\", \"room\": \"Double\"}\n",
    "\n",
    "\t2. Using the random list generated in point 1 and asuming that every item in the list is a price with the structure showed in point 2, calculate the exptected results.\n",
    "\n",
    "\n"
   ]
  },
  {
   "cell_type": "code",
   "execution_count": null,
   "metadata": {},
   "outputs": [],
   "source": [
    "\n",
    "@app.route('/api/v1/users/', methods=['POST'])\n",
    "def create_user():\n",
    "    response = {'message': 'success'}\n",
    "    return jsonify(response)"
   ]
  },
  {
   "cell_type": "markdown",
   "metadata": {},
   "source": [
    "3: Data Ingestion\n",
    "===================\n",
    "\n",
    "You will find a CSV file attached. Update the code of previous exercise in order to read the list of hotel prices from that file.\n",
    "\n",
    "To read the file in every POST request is not an option.... you should find a way to read the file only the first time than the API is called. After that, all request should read the list of prices from a different repository with better performance than the file reading. Find the best solution to achieve it.\n",
    "\n",
    "By the way, a local database is not an option, that will happens in the next exercise."
   ]
  },
  {
   "cell_type": "code",
   "execution_count": null,
   "metadata": {},
   "outputs": [],
   "source": []
  },
  {
   "cell_type": "markdown",
   "metadata": {},
   "source": [
    "4: Data Storage\n",
    "================\n",
    "- Create a local database using SQLite \n",
    "- Create a proper model to save all prices read from prices.csv file.\n",
    "- Create a API endpoint that read the content from the CSV file and save it into database.\n",
    "- Update the code of exercise 2.2 and read the list of prices from database.\n",
    "- You can use a ORM if you wish."
   ]
  },
  {
   "cell_type": "code",
   "execution_count": null,
   "metadata": {},
   "outputs": [],
   "source": []
  }
 ],
 "metadata": {
  "kernelspec": {
   "display_name": "Python 3.9.7 ('base')",
   "language": "python",
   "name": "python3"
  },
  "language_info": {
   "codemirror_mode": {
    "name": "ipython",
    "version": 3
   },
   "file_extension": ".py",
   "mimetype": "text/x-python",
   "name": "python",
   "nbconvert_exporter": "python",
   "pygments_lexer": "ipython3",
   "version": "3.9.7"
  },
  "orig_nbformat": 4,
  "vscode": {
   "interpreter": {
    "hash": "ad2bdc8ecc057115af97d19610ffacc2b4e99fae6737bb82f5d7fb13d2f2c186"
   }
  }
 },
 "nbformat": 4,
 "nbformat_minor": 2
}
